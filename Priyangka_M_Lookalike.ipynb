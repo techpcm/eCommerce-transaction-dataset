{
 "cells": [
  {
   "cell_type": "code",
   "execution_count": 19,
   "id": "3aa81d58-153a-4c83-8993-c7f02f8e45a7",
   "metadata": {},
   "outputs": [],
   "source": [
    "import pandas as pd\n",
    "import numpy as np\n",
    "import pandas as pd\n",
    "from sklearn.metrics.pairwise import cosine_similarity\n",
    "from sklearn.preprocessing import OneHotEncoder\n",
    "from sklearn.compose import ColumnTransformer\n",
    "from sklearn.pipeline import Pipeline\n",
    "from sklearn.preprocessing import StandardScaler\n",
    "from sklearn.cluster import KMeans\n",
    "from sklearn.decomposition import PCA\n",
    "from sklearn.metrics import davies_bouldin_score\n",
    "import matplotlib.pyplot as plt\n",
    "from sklearn.metrics.pairwise import cosine_similarity"
   ]
  },
  {
   "cell_type": "code",
   "execution_count": 20,
   "id": "582d24fd-065f-451d-b3c2-852f1d8908db",
   "metadata": {},
   "outputs": [],
   "source": [
    "customers_df = pd.read_csv('Customers.csv')\n",
    "products_df = pd.read_csv('Products.csv')\n",
    "transactions_df = pd.read_csv('Transactions.csv')"
   ]
  },
  {
   "cell_type": "code",
   "execution_count": 21,
   "id": "d5525dd9-384b-4af5-b90d-5c95dd79f179",
   "metadata": {},
   "outputs": [
    {
     "data": {
      "text/plain": [
       "(CustomerID      0\n",
       " CustomerName    0\n",
       " Region          0\n",
       " SignupDate      0\n",
       " dtype: int64,\n",
       " ProductID      0\n",
       " ProductName    0\n",
       " Category       0\n",
       " Price          0\n",
       " dtype: int64,\n",
       " TransactionID      0\n",
       " CustomerID         0\n",
       " ProductID          0\n",
       " TransactionDate    0\n",
       " Quantity           0\n",
       " TotalValue         0\n",
       " Price              0\n",
       " dtype: int64)"
      ]
     },
     "execution_count": 21,
     "metadata": {},
     "output_type": "execute_result"
    }
   ],
   "source": [
    "customers_df.isnull().sum(), products_df.isnull().sum(), transactions_df.isnull().sum()"
   ]
  },
  {
   "cell_type": "code",
   "execution_count": 22,
   "id": "3a42cdac-4762-4be7-a679-cc90a945f25c",
   "metadata": {},
   "outputs": [],
   "source": [
    "customers_df = customers_df.drop_duplicates()\n",
    "transactions_df = transactions_df.drop_duplicates()"
   ]
  },
  {
   "cell_type": "code",
   "execution_count": 23,
   "id": "93daef04-94b1-48d9-a279-ff2789d4e29f",
   "metadata": {},
   "outputs": [
    {
     "data": {
      "text/plain": [
       "Index(['customerid', 'customername', 'region', 'signupdate'], dtype='object')"
      ]
     },
     "execution_count": 23,
     "metadata": {},
     "output_type": "execute_result"
    }
   ],
   "source": [
    "customers_df.columns = customers_df.columns.str.strip().str.lower()\n",
    "customers_df.columns"
   ]
  },
  {
   "cell_type": "code",
   "execution_count": 24,
   "id": "4d3bf443-acd1-4337-9ef8-a10748027e64",
   "metadata": {},
   "outputs": [
    {
     "name": "stdout",
     "output_type": "stream",
     "text": [
      "Top 3 Lookalikes for Customer C001:\n",
      "1. Customer ID: C002, Similarity Score: 0.9999999895920186\n",
      "2. Customer ID: C004, Similarity Score: 0.9999997184414862\n",
      "3. Customer ID: C005, Similarity Score: 0.9999996969178286\n"
     ]
    }
   ],
   "source": [
    "import pandas as pd\n",
    "from sklearn.metrics.pairwise import cosine_similarity\n",
    "import numpy as np\n",
    "\n",
    "# Sample Customer and Transaction Data (replace with your actual dataset)\n",
    "customers_df = pd.DataFrame({\n",
    "    'CustomerID': ['C001', 'C002', 'C003', 'C004', 'C005'],\n",
    "    'Age': [25, 34, 28, 40, 23],\n",
    "    'AnnualIncome': [50000, 70000, 65000, 80000, 45000],\n",
    "    'TransactionCount': [5, 8, 4, 10, 3],\n",
    "    'AvgTransactionValue': [150, 200, 120, 180, 100],\n",
    "})\n",
    "\n",
    "transactions_df = pd.DataFrame({\n",
    "    'TransactionID': ['T001', 'T002', 'T003', 'T004', 'T005'],\n",
    "    'CustomerID': ['C001', 'C002', 'C003', 'C004', 'C005'],\n",
    "    'ProductID': ['P001', 'P002', 'P003', 'P004', 'P005'],\n",
    "    'TotalValue': [150, 200, 120, 180, 100],\n",
    "})\n",
    "\n",
    "# Merging customer data with transaction data to create a profile\n",
    "customer_transaction_data = pd.merge(customers_df, transactions_df.groupby('CustomerID')['TotalValue'].sum().reset_index(), on='CustomerID')\n",
    "customer_transaction_data['TotalValue'] = customer_transaction_data['TotalValue'].fillna(0)\n",
    "\n",
    "# Function to get lookalikes based on cosine similarity\n",
    "def get_lookalikes(customer_id, top_n=3):\n",
    "    # Extract features for similarity computation\n",
    "    customer_profile = customer_transaction_data[customer_transaction_data['CustomerID'] == customer_id]\n",
    "    other_customers = customer_transaction_data[customer_transaction_data['CustomerID'] != customer_id]\n",
    "\n",
    "    # Compute similarity using selected features (e.g., Age, AnnualIncome, TransactionCount, TotalValue)\n",
    "    features = ['Age', 'AnnualIncome', 'TransactionCount', 'TotalValue']\n",
    "    customer_features = customer_profile[features].values\n",
    "    other_customers_features = other_customers[features].values\n",
    "\n",
    "    # Calculate cosine similarity\n",
    "    similarity_scores = cosine_similarity(customer_features, other_customers_features).flatten()\n",
    "\n",
    "    # Get the top N most similar customers\n",
    "    similar_customer_ids = other_customers['CustomerID'].iloc[np.argsort(similarity_scores)[::-1][:top_n]]\n",
    "    similar_scores = np.sort(similarity_scores)[::-1][:top_n]\n",
    "\n",
    "    # Return the results as a dictionary\n",
    "    return list(zip(similar_customer_ids, similar_scores))\n",
    "\n",
    "# Get top 3 lookalikes for Customer C001\n",
    "lookalikes = get_lookalikes('C001', top_n=3)\n",
    "print(\"Top 3 Lookalikes for Customer C001:\")\n",
    "for idx, (customer, score) in enumerate(lookalikes, 1):\n",
    "    print(f\"{idx}. Customer ID: {customer}, Similarity Score: {score}\")\n"
   ]
  },
  {
   "cell_type": "code",
   "execution_count": null,
   "id": "200b6b85-2ea5-4431-a810-af65583197e1",
   "metadata": {},
   "outputs": [],
   "source": []
  },
  {
   "cell_type": "code",
   "execution_count": null,
   "id": "e9782b1e-3a37-4bb6-baae-2d06a87b0cd5",
   "metadata": {},
   "outputs": [],
   "source": []
  }
 ],
 "metadata": {
  "kernelspec": {
   "display_name": "Python 3 (ipykernel)",
   "language": "python",
   "name": "python3"
  },
  "language_info": {
   "codemirror_mode": {
    "name": "ipython",
    "version": 3
   },
   "file_extension": ".py",
   "mimetype": "text/x-python",
   "name": "python",
   "nbconvert_exporter": "python",
   "pygments_lexer": "ipython3",
   "version": "3.12.4"
  }
 },
 "nbformat": 4,
 "nbformat_minor": 5
}
